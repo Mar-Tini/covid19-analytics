{
 "cells": [
  {
   "cell_type": "code",
   "execution_count": 2,
   "id": "154a53fd",
   "metadata": {},
   "outputs": [
    {
     "data": {
      "text/html": [
       "<div>\n",
       "<style scoped>\n",
       "    .dataframe tbody tr th:only-of-type {\n",
       "        vertical-align: middle;\n",
       "    }\n",
       "\n",
       "    .dataframe tbody tr th {\n",
       "        vertical-align: top;\n",
       "    }\n",
       "\n",
       "    .dataframe thead th {\n",
       "        text-align: right;\n",
       "    }\n",
       "</style>\n",
       "<table border=\"1\" class=\"dataframe\">\n",
       "  <thead>\n",
       "    <tr style=\"text-align: right;\">\n",
       "      <th></th>\n",
       "      <th>USMER</th>\n",
       "      <th>MEDICAL_UNIT</th>\n",
       "      <th>SEX</th>\n",
       "      <th>PATIENT_TYPE</th>\n",
       "      <th>DATE_DIED</th>\n",
       "      <th>INTUBED</th>\n",
       "      <th>PNEUMONIA</th>\n",
       "      <th>AGE</th>\n",
       "      <th>PREGNANT</th>\n",
       "      <th>DIABETES</th>\n",
       "      <th>...</th>\n",
       "      <th>ASTHMA</th>\n",
       "      <th>INMSUPR</th>\n",
       "      <th>HIPERTENSION</th>\n",
       "      <th>OTHER_DISEASE</th>\n",
       "      <th>CARDIOVASCULAR</th>\n",
       "      <th>OBESITY</th>\n",
       "      <th>RENAL_CHRONIC</th>\n",
       "      <th>TOBACCO</th>\n",
       "      <th>CLASIFFICATION_FINAL</th>\n",
       "      <th>ICU</th>\n",
       "    </tr>\n",
       "  </thead>\n",
       "  <tbody>\n",
       "    <tr>\n",
       "      <th>0</th>\n",
       "      <td>2</td>\n",
       "      <td>1</td>\n",
       "      <td>1</td>\n",
       "      <td>1</td>\n",
       "      <td>03/05/2020</td>\n",
       "      <td>97</td>\n",
       "      <td>1</td>\n",
       "      <td>65</td>\n",
       "      <td>2</td>\n",
       "      <td>2</td>\n",
       "      <td>...</td>\n",
       "      <td>2</td>\n",
       "      <td>2</td>\n",
       "      <td>1</td>\n",
       "      <td>2</td>\n",
       "      <td>2</td>\n",
       "      <td>2</td>\n",
       "      <td>2</td>\n",
       "      <td>2</td>\n",
       "      <td>3</td>\n",
       "      <td>97</td>\n",
       "    </tr>\n",
       "    <tr>\n",
       "      <th>1</th>\n",
       "      <td>2</td>\n",
       "      <td>1</td>\n",
       "      <td>2</td>\n",
       "      <td>1</td>\n",
       "      <td>03/06/2020</td>\n",
       "      <td>97</td>\n",
       "      <td>1</td>\n",
       "      <td>72</td>\n",
       "      <td>97</td>\n",
       "      <td>2</td>\n",
       "      <td>...</td>\n",
       "      <td>2</td>\n",
       "      <td>2</td>\n",
       "      <td>1</td>\n",
       "      <td>2</td>\n",
       "      <td>2</td>\n",
       "      <td>1</td>\n",
       "      <td>1</td>\n",
       "      <td>2</td>\n",
       "      <td>5</td>\n",
       "      <td>97</td>\n",
       "    </tr>\n",
       "    <tr>\n",
       "      <th>2</th>\n",
       "      <td>2</td>\n",
       "      <td>1</td>\n",
       "      <td>2</td>\n",
       "      <td>2</td>\n",
       "      <td>09/06/2020</td>\n",
       "      <td>1</td>\n",
       "      <td>2</td>\n",
       "      <td>55</td>\n",
       "      <td>97</td>\n",
       "      <td>1</td>\n",
       "      <td>...</td>\n",
       "      <td>2</td>\n",
       "      <td>2</td>\n",
       "      <td>2</td>\n",
       "      <td>2</td>\n",
       "      <td>2</td>\n",
       "      <td>2</td>\n",
       "      <td>2</td>\n",
       "      <td>2</td>\n",
       "      <td>3</td>\n",
       "      <td>2</td>\n",
       "    </tr>\n",
       "    <tr>\n",
       "      <th>3</th>\n",
       "      <td>2</td>\n",
       "      <td>1</td>\n",
       "      <td>1</td>\n",
       "      <td>1</td>\n",
       "      <td>12/06/2020</td>\n",
       "      <td>97</td>\n",
       "      <td>2</td>\n",
       "      <td>53</td>\n",
       "      <td>2</td>\n",
       "      <td>2</td>\n",
       "      <td>...</td>\n",
       "      <td>2</td>\n",
       "      <td>2</td>\n",
       "      <td>2</td>\n",
       "      <td>2</td>\n",
       "      <td>2</td>\n",
       "      <td>2</td>\n",
       "      <td>2</td>\n",
       "      <td>2</td>\n",
       "      <td>7</td>\n",
       "      <td>97</td>\n",
       "    </tr>\n",
       "    <tr>\n",
       "      <th>4</th>\n",
       "      <td>2</td>\n",
       "      <td>1</td>\n",
       "      <td>2</td>\n",
       "      <td>1</td>\n",
       "      <td>21/06/2020</td>\n",
       "      <td>97</td>\n",
       "      <td>2</td>\n",
       "      <td>68</td>\n",
       "      <td>97</td>\n",
       "      <td>1</td>\n",
       "      <td>...</td>\n",
       "      <td>2</td>\n",
       "      <td>2</td>\n",
       "      <td>1</td>\n",
       "      <td>2</td>\n",
       "      <td>2</td>\n",
       "      <td>2</td>\n",
       "      <td>2</td>\n",
       "      <td>2</td>\n",
       "      <td>3</td>\n",
       "      <td>97</td>\n",
       "    </tr>\n",
       "  </tbody>\n",
       "</table>\n",
       "<p>5 rows × 21 columns</p>\n",
       "</div>"
      ],
      "text/plain": [
       "   USMER  MEDICAL_UNIT  SEX  PATIENT_TYPE   DATE_DIED  INTUBED  PNEUMONIA  \\\n",
       "0      2             1    1             1  03/05/2020       97          1   \n",
       "1      2             1    2             1  03/06/2020       97          1   \n",
       "2      2             1    2             2  09/06/2020        1          2   \n",
       "3      2             1    1             1  12/06/2020       97          2   \n",
       "4      2             1    2             1  21/06/2020       97          2   \n",
       "\n",
       "   AGE  PREGNANT  DIABETES  ...  ASTHMA  INMSUPR  HIPERTENSION  OTHER_DISEASE  \\\n",
       "0   65         2         2  ...       2        2             1              2   \n",
       "1   72        97         2  ...       2        2             1              2   \n",
       "2   55        97         1  ...       2        2             2              2   \n",
       "3   53         2         2  ...       2        2             2              2   \n",
       "4   68        97         1  ...       2        2             1              2   \n",
       "\n",
       "   CARDIOVASCULAR  OBESITY  RENAL_CHRONIC  TOBACCO  CLASIFFICATION_FINAL  ICU  \n",
       "0               2        2              2        2                     3   97  \n",
       "1               2        1              1        2                     5   97  \n",
       "2               2        2              2        2                     3    2  \n",
       "3               2        2              2        2                     7   97  \n",
       "4               2        2              2        2                     3   97  \n",
       "\n",
       "[5 rows x 21 columns]"
      ]
     },
     "execution_count": 2,
     "metadata": {},
     "output_type": "execute_result"
    }
   ],
   "source": [
    "import pandas as pd \n",
    "\n",
    "covid = pd.read_csv('../datas/Covid Data.csv')\n",
    "\n",
    "covid.head()"
   ]
  },
  {
   "cell_type": "code",
   "execution_count": 3,
   "id": "8978bf3d",
   "metadata": {},
   "outputs": [
    {
     "data": {
      "text/plain": [
       "SEX  PREGNANT\n",
       "1    2           513179\n",
       "     1             8131\n",
       "     98            3754\n",
       "2    97          523511\n",
       "Name: count, dtype: int64"
      ]
     },
     "execution_count": 3,
     "metadata": {},
     "output_type": "execute_result"
    }
   ],
   "source": [
    "covid.groupby(['SEX'])['PREGNANT'].value_counts()"
   ]
  },
  {
   "cell_type": "markdown",
   "id": "ee9854bf",
   "metadata": {},
   "source": [
    "SEX=1 correspond aux femmes,  car elles representent les valeurs  PREGNANT =  1 (enceinte)  et 2 (pas enceinte) car en realité les femmes non enceinte  soit moin nombreuses que les femmes enceintes.\n",
    "\n",
    "SEX=2 correspond aux homme , car  97 (non applicable) ou 98 inconnu/non déclaré, indiquent des cas où le sexe n’est pas précisé ou non applicable."
   ]
  },
  {
   "cell_type": "code",
   "execution_count": 4,
   "id": "497efb5d",
   "metadata": {},
   "outputs": [],
   "source": [
    "covid['SEX'] = covid['SEX'].map({ \n",
    "    1: 'Femme', \n",
    "    2 :'Homme'\n",
    "})\n",
    "\n",
    "\n",
    "covid['PREGNANT'] = covid['PREGNANT'].replace({97: 0, 98 : 0})\n",
    "\n",
    "\n",
    "covid['PREGNANT'] = covid['PREGNANT'].map({\n",
    "    1: 'enceinte' , \n",
    "    2: 'pas enceinte', \n",
    "    0: 'nom applicable',\n",
    "})\n",
    "\n"
   ]
  },
  {
   "cell_type": "markdown",
   "id": "68ff89c1",
   "metadata": {},
   "source": [
    "convertir les categories SEX et  PREGNANT afin de  mieux interpréter les données"
   ]
  },
  {
   "cell_type": "code",
   "execution_count": 5,
   "id": "b4fe9991",
   "metadata": {},
   "outputs": [
    {
     "data": {
      "image/png": "[encoded data removed]",
      "text/plain": [
       "<Figure size 1200x600 with 1 Axes>"
      ]
     },
     "metadata": {},
     "output_type": "display_data"
    }
   ],
   "source": [
    "import seaborn as sns\n",
    "import matplotlib.pyplot as plt\n",
    "\n",
    "\n",
    "# Boxplot avec seaborn\n",
    "plt.figure(figsize=(12,6))\n",
    "sns.boxplot(x='SEX', y='AGE', data=covid, hue='SEX', fill=False, gap=.1, native_scale=True)\n",
    "plt.title(\"Boxplots des variables numériques\")\n",
    "plt.xticks(rotation=45)\n",
    "plt.show()"
   ]
  },
  {
   "cell_type": "markdown",
   "id": "3f36608c",
   "metadata": {},
   "source": [
    "La mojorité de patient entre le premier  quartile(Q1 = 25 ans )  et troisieme quartile (Q3 = 50)  et avec un âge  minimun = 0 probablement  de nouveau-née et une âge maximun autour de 80 ans , donc  les personnes âgées plus de 80 ans  on peut les suprimer car elles presentent des données aberantes  en plus  elle presente niveau de vie faible qui peux être pas grand chose sur analise de personne qui est mort à cause de la covid  "
   ]
  },
  {
   "cell_type": "code",
   "execution_count": 7,
   "id": "e9792ed2",
   "metadata": {},
   "outputs": [],
   "source": [
    "Q1 = covid['AGE'].quantile(0.25)\n",
    "Q3 = covid['AGE'].quantile(0.75)\n",
    "\n",
    "IQR = Q3 - Q1\n",
    "\n",
    "borne_inf = Q1 - 1.5 * IQR\n",
    "borne_sup = Q3 + 1.5 * IQR\n",
    "\n",
    "\n",
    "covid = covid[(covid['AGE'] >= borne_inf) & (covid['AGE'] <= borne_sup)]"
   ]
  },
  {
   "cell_type": "markdown",
   "id": "ff3828cb",
   "metadata": {},
   "source": [
    "On supprime les personnes âgées de plus de 80 ans car elles ont généralement un niveau de vie plus fragile. Cette exclusion ne modifie pas significativement l’analyse des décès dus au COVID-19, car l’objectif est de se concentrer sur les groupes d’âge où l’impact du virus est le plus pertinent pour la prévention et la prise en charge."
   ]
  },
  {
   "cell_type": "code",
   "execution_count": 8,
   "id": "1d3ed00f",
   "metadata": {},
   "outputs": [
    {
     "data": {
      "image/png": "[encoded data removed]",
      "text/plain": [
       "<Figure size 1200x600 with 1 Axes>"
      ]
     },
     "metadata": {},
     "output_type": "display_data"
    }
   ],
   "source": [
    "import seaborn as sns\n",
    "import matplotlib.pyplot as plt\n",
    "\n",
    "\n",
    "# Boxplot avec seaborn\n",
    "plt.figure(figsize=(12,6))\n",
    "sns.boxplot(x='SEX', y='AGE', data=covid, hue='SEX', fill=False, gap=.1, native_scale=True)\n",
    "plt.title(\"Boxplots des variables numériques\")\n",
    "plt.xticks(rotation=45)\n",
    "plt.show()"
   ]
  },
  {
   "cell_type": "code",
   "execution_count": null,
   "id": "e6bfef8b",
   "metadata": {},
   "outputs": [],
   "source": [
    "covid['DATE_DIED'] = pd.to_datetime(covid['DATE_DIED'], errors='coerce')\n"
   ]
  },
  {
   "cell_type": "markdown",
   "id": "4bf1b842",
   "metadata": {},
   "source": [
    "Convertir DATE_DIED en datetime"
   ]
  },
  {
   "cell_type": "code",
   "execution_count": 10,
   "id": "2ff59e5c",
   "metadata": {},
   "outputs": [],
   "source": [
    "covid = covid[((covid['DATE_DIED'] != '9999-99-99'))]"
   ]
  },
  {
   "cell_type": "markdown",
   "id": "b34ccb98",
   "metadata": {},
   "source": [
    "On supprime les données contenant la date 9999-99-99 car cette date n’est pas précise et ne permet pas de faire une analyse fiable. "
   ]
  },
  {
   "cell_type": "code",
   "execution_count": 11,
   "id": "e544064e",
   "metadata": {},
   "outputs": [],
   "source": [
    "import numpy as np\n",
    "\n",
    "variables = covid.select_dtypes(include=['int', 'int64']).columns.tolist()\n",
    "\n",
    "# Condition : lignes où aucune des colonnes int a 97,98,99 \n",
    "mask = (~covid[variables].isin([97, 98, 99]).any(axis=1))\n",
    "\n",
    "covid_clean = covid[mask]"
   ]
  },
  {
   "cell_type": "markdown",
   "id": "ce1c56f2",
   "metadata": {},
   "source": [
    "Supprimer les lignes contenant les valeurs 97, 98 et 99 dans toutes les colonnes, car elles indiquent l’absence d’informations fiables, tandis que les autres valeurs conservent leur signification médicale."
   ]
  },
  {
   "cell_type": "code",
   "execution_count": 12,
   "id": "fc9822ed",
   "metadata": {},
   "outputs": [],
   "source": [
    "covid_clean.loc[:, 'DATE_DIED'] = pd.to_datetime(covid_clean['DATE_DIED'], errors='coerce')"
   ]
  },
  {
   "cell_type": "markdown",
   "id": "029c968b",
   "metadata": {},
   "source": [
    "Convertir DATE_DIED en datetime"
   ]
  },
  {
   "cell_type": "code",
   "execution_count": 13,
   "id": "e8157a55",
   "metadata": {},
   "outputs": [
    {
     "data": {
      "text/html": [
       "<div>\n",
       "<style scoped>\n",
       "    .dataframe tbody tr th:only-of-type {\n",
       "        vertical-align: middle;\n",
       "    }\n",
       "\n",
       "    .dataframe tbody tr th {\n",
       "        vertical-align: top;\n",
       "    }\n",
       "\n",
       "    .dataframe thead th {\n",
       "        text-align: right;\n",
       "    }\n",
       "</style>\n",
       "<table border=\"1\" class=\"dataframe\">\n",
       "  <thead>\n",
       "    <tr style=\"text-align: right;\">\n",
       "      <th></th>\n",
       "      <th>USMER</th>\n",
       "      <th>MEDICAL_UNIT</th>\n",
       "      <th>SEX</th>\n",
       "      <th>PATIENT_TYPE</th>\n",
       "      <th>DATE_DIED</th>\n",
       "      <th>INTUBED</th>\n",
       "      <th>PNEUMONIA</th>\n",
       "      <th>AGE</th>\n",
       "      <th>PREGNANT</th>\n",
       "      <th>DIABETES</th>\n",
       "      <th>...</th>\n",
       "      <th>ASTHMA</th>\n",
       "      <th>INMSUPR</th>\n",
       "      <th>HIPERTENSION</th>\n",
       "      <th>OTHER_DISEASE</th>\n",
       "      <th>CARDIOVASCULAR</th>\n",
       "      <th>OBESITY</th>\n",
       "      <th>RENAL_CHRONIC</th>\n",
       "      <th>TOBACCO</th>\n",
       "      <th>CLASIFFICATION_FINAL</th>\n",
       "      <th>ICU</th>\n",
       "    </tr>\n",
       "  </thead>\n",
       "  <tbody>\n",
       "    <tr>\n",
       "      <th>2</th>\n",
       "      <td>2</td>\n",
       "      <td>1</td>\n",
       "      <td>Homme</td>\n",
       "      <td>2</td>\n",
       "      <td>2020-09-06</td>\n",
       "      <td>1</td>\n",
       "      <td>2</td>\n",
       "      <td>55</td>\n",
       "      <td>nom applicable</td>\n",
       "      <td>1</td>\n",
       "      <td>...</td>\n",
       "      <td>2</td>\n",
       "      <td>2</td>\n",
       "      <td>2</td>\n",
       "      <td>2</td>\n",
       "      <td>2</td>\n",
       "      <td>2</td>\n",
       "      <td>2</td>\n",
       "      <td>2</td>\n",
       "      <td>3</td>\n",
       "      <td>2</td>\n",
       "    </tr>\n",
       "    <tr>\n",
       "      <th>5</th>\n",
       "      <td>2</td>\n",
       "      <td>1</td>\n",
       "      <td>Femme</td>\n",
       "      <td>2</td>\n",
       "      <td>NaT</td>\n",
       "      <td>2</td>\n",
       "      <td>1</td>\n",
       "      <td>40</td>\n",
       "      <td>pas enceinte</td>\n",
       "      <td>2</td>\n",
       "      <td>...</td>\n",
       "      <td>2</td>\n",
       "      <td>2</td>\n",
       "      <td>2</td>\n",
       "      <td>2</td>\n",
       "      <td>2</td>\n",
       "      <td>2</td>\n",
       "      <td>2</td>\n",
       "      <td>2</td>\n",
       "      <td>3</td>\n",
       "      <td>2</td>\n",
       "    </tr>\n",
       "    <tr>\n",
       "      <th>8</th>\n",
       "      <td>2</td>\n",
       "      <td>1</td>\n",
       "      <td>Femme</td>\n",
       "      <td>2</td>\n",
       "      <td>NaT</td>\n",
       "      <td>2</td>\n",
       "      <td>2</td>\n",
       "      <td>37</td>\n",
       "      <td>pas enceinte</td>\n",
       "      <td>1</td>\n",
       "      <td>...</td>\n",
       "      <td>2</td>\n",
       "      <td>2</td>\n",
       "      <td>1</td>\n",
       "      <td>2</td>\n",
       "      <td>2</td>\n",
       "      <td>1</td>\n",
       "      <td>2</td>\n",
       "      <td>2</td>\n",
       "      <td>3</td>\n",
       "      <td>2</td>\n",
       "    </tr>\n",
       "    <tr>\n",
       "      <th>9</th>\n",
       "      <td>2</td>\n",
       "      <td>1</td>\n",
       "      <td>Femme</td>\n",
       "      <td>2</td>\n",
       "      <td>NaT</td>\n",
       "      <td>2</td>\n",
       "      <td>2</td>\n",
       "      <td>25</td>\n",
       "      <td>pas enceinte</td>\n",
       "      <td>2</td>\n",
       "      <td>...</td>\n",
       "      <td>2</td>\n",
       "      <td>2</td>\n",
       "      <td>2</td>\n",
       "      <td>2</td>\n",
       "      <td>2</td>\n",
       "      <td>2</td>\n",
       "      <td>2</td>\n",
       "      <td>2</td>\n",
       "      <td>3</td>\n",
       "      <td>2</td>\n",
       "    </tr>\n",
       "    <tr>\n",
       "      <th>11</th>\n",
       "      <td>2</td>\n",
       "      <td>1</td>\n",
       "      <td>Homme</td>\n",
       "      <td>2</td>\n",
       "      <td>NaT</td>\n",
       "      <td>2</td>\n",
       "      <td>2</td>\n",
       "      <td>24</td>\n",
       "      <td>nom applicable</td>\n",
       "      <td>2</td>\n",
       "      <td>...</td>\n",
       "      <td>2</td>\n",
       "      <td>2</td>\n",
       "      <td>2</td>\n",
       "      <td>2</td>\n",
       "      <td>2</td>\n",
       "      <td>2</td>\n",
       "      <td>2</td>\n",
       "      <td>2</td>\n",
       "      <td>3</td>\n",
       "      <td>2</td>\n",
       "    </tr>\n",
       "  </tbody>\n",
       "</table>\n",
       "<p>5 rows × 21 columns</p>\n",
       "</div>"
      ],
      "text/plain": [
       "    USMER  MEDICAL_UNIT    SEX  PATIENT_TYPE  DATE_DIED  INTUBED  PNEUMONIA  \\\n",
       "2       2             1  Homme             2 2020-09-06        1          2   \n",
       "5       2             1  Femme             2        NaT        2          1   \n",
       "8       2             1  Femme             2        NaT        2          2   \n",
       "9       2             1  Femme             2        NaT        2          2   \n",
       "11      2             1  Homme             2        NaT        2          2   \n",
       "\n",
       "    AGE        PREGNANT  DIABETES  ...  ASTHMA  INMSUPR  HIPERTENSION  \\\n",
       "2    55  nom applicable         1  ...       2        2             2   \n",
       "5    40    pas enceinte         2  ...       2        2             2   \n",
       "8    37    pas enceinte         1  ...       2        2             1   \n",
       "9    25    pas enceinte         2  ...       2        2             2   \n",
       "11   24  nom applicable         2  ...       2        2             2   \n",
       "\n",
       "    OTHER_DISEASE  CARDIOVASCULAR  OBESITY  RENAL_CHRONIC  TOBACCO  \\\n",
       "2               2               2        2              2        2   \n",
       "5               2               2        2              2        2   \n",
       "8               2               2        1              2        2   \n",
       "9               2               2        2              2        2   \n",
       "11              2               2        2              2        2   \n",
       "\n",
       "    CLASIFFICATION_FINAL  ICU  \n",
       "2                      3    2  \n",
       "5                      3    2  \n",
       "8                      3    2  \n",
       "9                      3    2  \n",
       "11                     3    2  \n",
       "\n",
       "[5 rows x 21 columns]"
      ]
     },
     "execution_count": 13,
     "metadata": {},
     "output_type": "execute_result"
    }
   ],
   "source": [
    "covid_clean.head()"
   ]
  },
  {
   "cell_type": "markdown",
   "id": "d385946d",
   "metadata": {},
   "source": [
    "La colonne DATE_DIED contient des valeurs manquantes (NaT). Pour garantir la précision de l’analyse."
   ]
  },
  {
   "cell_type": "code",
   "execution_count": 14,
   "id": "b0559ae7",
   "metadata": {},
   "outputs": [],
   "source": [
    "covid_clean = covid_clean.dropna(axis=0)"
   ]
  },
  {
   "cell_type": "code",
   "execution_count": 19,
   "id": "66a0cb12",
   "metadata": {},
   "outputs": [],
   "source": [
    "covid_clean['SEX'] = covid_clean['SEX'].map({'Homme': 1, 'Femme': 2}).astype(int)\n",
    "covid_clean['PREGNANT'] = covid_clean['PREGNANT'].map({'enceinte': 1, 'pas enceinte': 2, 'nom applicable': 3}).astype(int)"
   ]
  },
  {
   "cell_type": "markdown",
   "id": "07c85d62",
   "metadata": {},
   "source": [
    "On remplace les valeurs catégoriques  par des codes numériques pour faciliter l'analyse "
   ]
  },
  {
   "cell_type": "code",
   "execution_count": 20,
   "id": "f4fe5425",
   "metadata": {},
   "outputs": [
    {
     "data": {
      "text/plain": [
       "USMER                     2\n",
       "MEDICAL_UNIT             13\n",
       "SEX                       2\n",
       "DATE_DIED               128\n",
       "INTUBED                   2\n",
       "PNEUMONIA                 2\n",
       "AGE                      86\n",
       "PREGNANT                  3\n",
       "DIABETES                  2\n",
       "COPD                      2\n",
       "ASTHMA                    2\n",
       "INMSUPR                   2\n",
       "HIPERTENSION              2\n",
       "OTHER_DISEASE             2\n",
       "CARDIOVASCULAR            2\n",
       "OBESITY                   2\n",
       "RENAL_CHRONIC             2\n",
       "TOBACCO                   2\n",
       "CLASIFFICATION_FINAL      7\n",
       "ICU                       2\n",
       "dtype: int64"
      ]
     },
     "execution_count": 20,
     "metadata": {},
     "output_type": "execute_result"
    }
   ],
   "source": [
    "covid_clean.nunique()"
   ]
  },
  {
   "cell_type": "markdown",
   "id": "c27e9e34",
   "metadata": {},
   "source": [
    "Cela permet de visualiser la diversité des données dans chaque colonne."
   ]
  },
  {
   "cell_type": "code",
   "execution_count": 17,
   "id": "5703ee03",
   "metadata": {},
   "outputs": [],
   "source": [
    "covid_clean = covid_clean.drop(['PATIENT_TYPE'], axis=1)"
   ]
  },
  {
   "cell_type": "markdown",
   "id": "e99c3ffe",
   "metadata": {},
   "source": [
    "La colonne PATIENT_TYPE contient une seule valeur unique pour toutes les données, donc nous la supprimons car elle n’apporte aucune information utile pour notre analyse"
   ]
  },
  {
   "cell_type": "code",
   "execution_count": 21,
   "metadata": {},
   "outputs": [],
   "source": [
    "covid_clean.to_csv('../datas/covid_clean.csv', index=False)"
   ]
  },
  {
   "cell_type": "markdown",
   "id": "6a5171f0",
   "metadata": {},
   "source": [
    "Cette ligne permet de sauvegarder les données nettoyées dans un fichier CSV sans inclure l’index."
   ]
  }
 ],
 "metadata": {
  "kernelspec": {
   "display_name": "base",
   "language": "python",
   "name": "python3"
  },
  "language_info": {
   "codemirror_mode": {
    "name": "ipython",
    "version": 3
   },
   "file_extension": ".py",
   "mimetype": "text/x-python",
   "name": "python",
   "nbconvert_exporter": "python",
   "pygments_lexer": "ipython3",
   "version": "3.12.7"
  }
 },
 "nbformat": 4,
 "nbformat_minor": 5
}
